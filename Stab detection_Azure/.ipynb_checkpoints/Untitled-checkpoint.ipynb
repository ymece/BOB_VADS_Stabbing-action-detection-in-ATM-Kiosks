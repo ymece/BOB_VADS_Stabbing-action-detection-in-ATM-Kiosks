{
 "cells": [
  {
   "cell_type": "code",
   "execution_count": 1,
   "id": "4278ecdf",
   "metadata": {},
   "outputs": [],
   "source": [
    "from tkinter import *\n",
    "from PIL import ImageTk, Image"
   ]
  },
  {
   "cell_type": "code",
   "execution_count": 2,
   "id": "6e57206d",
   "metadata": {},
   "outputs": [],
   "source": [
    "import tkinter as tk\n",
    "from tkinter import ttk\n",
    "from tkinter import filedialog as fd\n",
    "from tkinter.messagebox import showinfo"
   ]
  },
  {
   "cell_type": "code",
   "execution_count": 3,
   "id": "8c38db2d",
   "metadata": {},
   "outputs": [],
   "source": [
    "root = tk.Tk()\n",
    "root.title('Stabbing action detection')\n",
    "root.geometry('700x350')\n",
    "root.resizable(width=True, height=True)\n",
    "app = Frame(root, bg=\"white\")\n",
    "label =Label(root)\n",
    "label.pack()"
   ]
  },
  {
   "cell_type": "code",
   "execution_count": null,
   "id": "3e3bcea2",
   "metadata": {},
   "outputs": [],
   "source": [
    "def run():\n",
    "    camera=fd.askopenfilename(filetypes=((\"Images\", \"*.jpg\"),))\n",
    "    camera.set(cv2.CAP_PROP_FRAME_WIDTH, img_width)\n",
    "    camera.set(cv2.CAP_PROP_FRAME_HEIGHT, img_height)\n",
    "\n",
    "    #ret, image = camera.read()\n",
    "    cv2.imwrite('capture.png', camera)\n",
    "\n",
    "    results = detect_image('capture.png')\n",
    "    print(\"\\n\", \"*\"*8, \"Captured image saved!\", \"*\"*8, \"\\n\")\n",
    "    print(\"\\n\", \"*\"*8, \"Results\", \"*\"*8, \"\\n\")\n",
    "\n",
    "# Select color for the bounding box (BGR)\n",
    "    colors = {\n",
    "        \"knifeinhand\": (0,215,255)\n",
    "    }\n",
    "\n",
    "# Display the results\n",
    "    for prediction in results:\n",
    "        if prediction['probability'] > 0.3:\n",
    "            print(f\"{prediction['tagName']}: {prediction['probability'] * 100 :.2f}%\")\n",
    "            color = colors[prediction['tagName']]\n",
    "            left = prediction['boundingBox']['left'] * img_width\n",
    "            top = prediction['boundingBox']['top'] * img_height\n",
    "            height = prediction['boundingBox']['height'] * img_height\n",
    "            width =  prediction['boundingBox']['width'] * img_width\n",
    "            result_image = cv2.rectangle(image, (int(left), int(top)), (int(left + width), int(top + height)), color, 3)\n",
    "            cv2.putText(result_image, f\"{prediction['tagName']}: {prediction['probability'] * 100 :.2f}%\", (int(left), int(top)-10), fontFace = cv2.FONT_HERSHEY_SIMPLEX, fontScale = 0.5, color = color, thickness = 2)\n",
    "            cv2.imwrite('result.png', result_image)\n",
    "\n",
    "    camera.release()\n",
    "    \n",
    "gmm_button=Button(root,text='Azure',command=run).pack()\n",
    "root.mainloop()"
   ]
  },
  {
   "cell_type": "code",
   "execution_count": null,
   "id": "330a7746",
   "metadata": {},
   "outputs": [],
   "source": []
  }
 ],
 "metadata": {
  "kernelspec": {
   "display_name": "Python 3 (ipykernel)",
   "language": "python",
   "name": "python3"
  },
  "language_info": {
   "codemirror_mode": {
    "name": "ipython",
    "version": 3
   },
   "file_extension": ".py",
   "mimetype": "text/x-python",
   "name": "python",
   "nbconvert_exporter": "python",
   "pygments_lexer": "ipython3",
   "version": "3.9.13"
  }
 },
 "nbformat": 4,
 "nbformat_minor": 5
}
