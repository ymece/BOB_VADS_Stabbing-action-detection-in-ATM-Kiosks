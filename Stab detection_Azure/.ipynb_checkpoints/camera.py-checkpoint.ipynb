{
 "cells": [
  {
   "cell_type": "code",
   "execution_count": null,
   "id": "73579347",
   "metadata": {},
   "outputs": [],
   "source": [
    "import cv2\n",
    "from predict import detect_image\n",
    "\n",
    "# Set the size of the image (in pixels)\n",
    "img_width = 640\n",
    "img_height = 480\n",
    "\n",
    "print(\"\\n\", \"*\"*8, \"Starting camera!\", \"*\"*8, \"\\n\")\n",
    "# Take an image from the camera and save it\n",
    "camera = cv2.VideoCapture(0, cv2.CAP_DSHOW)\n",
    "camera.set(cv2.CAP_PROP_FRAME_WIDTH, img_width)\n",
    "camera.set(cv2.CAP_PROP_FRAME_HEIGHT, img_height)\n",
    "\n",
    "ret, image = camera.read()\n",
    "cv2.imwrite('capture.png', image)\n",
    "\n",
    "results = detect_image('capture.png')\n",
    "print(\"\\n\", \"*\"*8, \"Captured image saved!\", \"*\"*8, \"\\n\")\n",
    "print(\"\\n\", \"*\"*8, \"Results\", \"*\"*8, \"\\n\")\n",
    "\n",
    "# Select color for the bounding box (BGR)\n",
    "colors = {\n",
    "    \"tomato\": (0,215,255),\n",
    "    \"cucumber\": (255,215,0),\n",
    "    \"pepper\": (66,174,255)\n",
    "}\n",
    "\n",
    "# Display the results\n",
    "for prediction in results:\n",
    "    if prediction['probability'] > 0.3:\n",
    "        print(f\"{prediction['tagName']}: {prediction['probability'] * 100 :.2f}%\")\n",
    "        color = colors[prediction['tagName']]\n",
    "        left = prediction['boundingBox']['left'] * img_width\n",
    "        top = prediction['boundingBox']['top'] * img_height\n",
    "        height = prediction['boundingBox']['height'] * img_height\n",
    "        width =  prediction['boundingBox']['width'] * img_width\n",
    "        result_image = cv2.rectangle(image, (int(left), int(top)), (int(left + width), int(top + height)), color, 3)\n",
    "        cv2.putText(result_image, f\"{prediction['tagName']}: {prediction['probability'] * 100 :.2f}%\", (int(left), int(top)-10), fontFace = cv2.FONT_HERSHEY_SIMPLEX, fontScale = 0.5, color = color, thickness = 2)\n",
    "        cv2.imwrite('result.png', result_image)\n",
    "\n",
    "camera.release()"
   ]
  }
 ],
 "metadata": {
  "kernelspec": {
   "display_name": "Python 3 (ipykernel)",
   "language": "python",
   "name": "python3"
  },
  "language_info": {
   "codemirror_mode": {
    "name": "ipython",
    "version": 3
   },
   "file_extension": ".py",
   "mimetype": "text/x-python",
   "name": "python",
   "nbconvert_exporter": "python",
   "pygments_lexer": "ipython3",
   "version": "3.9.13"
  }
 },
 "nbformat": 4,
 "nbformat_minor": 5
}
